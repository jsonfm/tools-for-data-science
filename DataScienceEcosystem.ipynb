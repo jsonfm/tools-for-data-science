{
  "nbformat": 4,
  "nbformat_minor": 0,
  "metadata": {
    "colab": {
      "provenance": []
    },
    "kernelspec": {
      "name": "python3",
      "display_name": "Python 3"
    },
    "language_info": {
      "name": "python"
    }
  },
  "cells": [
    {
      "cell_type": "markdown",
      "metadata": {
        "id": "5FZlWtZOrkud"
      },
      "source": [
        "<center>\n",
        "    <img src=\"https://cf-courses-data.s3.us.cloud-object-storage.appdomain.cloud/IBMDeveloperSkillsNetwork-DS0105EN-SkillsNetwork/labs/Module2/images/SN_web_lightmode.png\" width=\"300\" alt=\"cognitiveclass.ai logo\">\n",
        "</center>\n"
      ]
    },
    {
      "cell_type": "markdown",
      "metadata": {
        "id": "sjq4r0U9rkug"
      },
      "source": [
        "#### Add your code below following the instructions given in the course\n"
      ]
    },
    {
      "cell_type": "markdown",
      "source": [
        "In this notebook, Data Science Tools and Ecosystem are summarized."
      ],
      "metadata": {
        "id": "2YBUoHSPkvHm"
      }
    },
    {
      "cell_type": "markdown",
      "source": [
        "**Some of the popular languages that Data Scientists use are:**\n",
        "- Python\n",
        "- R\n",
        "- SQL\n"
      ],
      "metadata": {
        "id": "2tm8Lg-ok5YM"
      }
    },
    {
      "cell_type": "markdown",
      "source": [
        "**Some of the commonly used libraries used by Data Scientists include:**\n",
        "\n",
        "- Numpy\n",
        "- Tensorflow\n",
        "- Pytorch\n",
        "- Scipy\n",
        "- Pandas\n",
        "- Matplotlib\n",
        "- Seaborn"
      ],
      "metadata": {
        "id": "-jNoHc_XlX1P"
      }
    },
    {
      "cell_type": "markdown",
      "source": [
        "Data Science Tools\n",
        "\n",
        "| Data Science Tools |\n",
        "|--------------------|\n",
        "| Python             |\n",
        "| R                  |\n",
        "| SQL                |\n"
      ],
      "metadata": {
        "id": "8r3SLafklKAF"
      }
    },
    {
      "cell_type": "markdown",
      "source": [
        "<h3>Below are a few examples of evaluating arithmetic expressions in Python</h3>"
      ],
      "metadata": {
        "id": "4WYCe9eOzmJs"
      }
    },
    {
      "cell_type": "markdown",
      "source": [
        "This a simple arithmetic expression to mutiply then add integers"
      ],
      "metadata": {
        "id": "L0bUwNWmz3Cn"
      }
    },
    {
      "cell_type": "code",
      "source": [
        "(3*4)+5"
      ],
      "metadata": {
        "colab": {
          "base_uri": "https://localhost:8080/"
        },
        "id": "m-AzGBxZzx96",
        "outputId": "1a47c759-9d0f-4f7b-bc2f-51845623b81e"
      },
      "execution_count": 1,
      "outputs": [
        {
          "output_type": "execute_result",
          "data": {
            "text/plain": [
              "17"
            ]
          },
          "metadata": {},
          "execution_count": 1
        }
      ]
    },
    {
      "cell_type": "markdown",
      "source": [
        "This will convert 200 minutes to hours by diving by 60"
      ],
      "metadata": {
        "id": "C5Smd1Ox0BNT"
      }
    },
    {
      "cell_type": "code",
      "source": [
        "200 / 60"
      ],
      "metadata": {
        "colab": {
          "base_uri": "https://localhost:8080/"
        },
        "id": "xbs84veK0HVF",
        "outputId": "d80fe794-3570-4d8c-c994-d1dc819541ec"
      },
      "execution_count": 2,
      "outputs": [
        {
          "output_type": "execute_result",
          "data": {
            "text/plain": [
              "3.3333333333333335"
            ]
          },
          "metadata": {},
          "execution_count": 2
        }
      ]
    },
    {
      "cell_type": "markdown",
      "source": [
        "**Objectives:** List popular languages for Data Science\n",
        "\n",
        "- Python\n",
        "- R\n",
        "- SQL\n",
        "- C++\n",
        "- Javascript"
      ],
      "metadata": {
        "id": "g5aQKOeS0SOa"
      }
    },
    {
      "cell_type": "markdown",
      "source": [
        "## **Author**\n",
        "\n",
        "[Jason Macas](https://github.com/jsonfm)\n",
        "\n"
      ],
      "metadata": {
        "id": "giBOwxDL0qdj"
      }
    },
    {
      "cell_type": "markdown",
      "source": [],
      "metadata": {
        "id": "D1F0iWR3zpwH"
      }
    }
  ]
}